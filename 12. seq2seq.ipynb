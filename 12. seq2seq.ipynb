{
 "cells": [
  {
   "cell_type": "markdown",
   "metadata": {},
   "source": [
    "seq2seq model architectures:\n",
    "- simple (encoder: lstm, decoder: lstm -> dense)\n",
    "- stacked_encoder (encoder: lstm -> lstm, decoder: lstm -> dense)\n",
    "- bistacked_encoder (encoder: bilstm -> lstm, decoder: lstm -> dense)\n",
    "- stacked_decoder (encoder: lstm, decoder: lstm -> lstm -> dense)\n",
    "- stacked (encoder: lstm -> lstm, decoder: lstm -> lstm -> dense)\n",
    "- bistacked (encoder: bilstm -> lstm, decoder: lstm -> lstm -> dense)"
   ]
  },
  {
   "cell_type": "markdown",
   "metadata": {},
   "source": [
    "### Google Colab utils"
   ]
  },
  {
   "cell_type": "code",
   "execution_count": null,
   "metadata": {},
   "outputs": [],
   "source": [
    "#!pip install keras-tuner"
   ]
  },
  {
   "cell_type": "code",
   "execution_count": null,
   "metadata": {},
   "outputs": [],
   "source": [
    "# # memory footprint support libraries/code\n",
    "# !ln -sf /opt/bin/nvidia-smi /usr/bin/nvidia-smi\n",
    "# !pip install gputil\n",
    "# !pip install psutil\n",
    "# !pip install humanize\n",
    "# import psutil\n",
    "# import humanize\n",
    "# import os\n",
    "# import GPUtil as GPU\n",
    "# GPUs = GPU.getGPUs()\n",
    "# # XXX: only one GPU on Colab and isn’t guaranteed\n",
    "# gpu = GPUs[0]\n",
    "# def printm():\n",
    "#  process = psutil.Process(os.getpid())\n",
    "#  print(\"Gen RAM Free: \" + humanize.naturalsize( psutil.virtual_memory().available ), \" | Proc size: \" + humanize.naturalsize( process.memory_info().rss))\n",
    "#  print(\"GPU RAM Free: {0:.0f}MB | Used: {1:.0f}MB | Util {2:3.0f}% | Total {3:.0f}MB\".format(gpu.memoryFree, gpu.memoryUsed, gpu.memoryUtil*100, gpu.memoryTotal))\n",
    "# printm() "
   ]
  },
  {
   "cell_type": "code",
   "execution_count": null,
   "metadata": {},
   "outputs": [],
   "source": [
    "#!kill -9 -1"
   ]
  },
  {
   "cell_type": "code",
   "execution_count": null,
   "metadata": {},
   "outputs": [],
   "source": [
    "# from google.colab import drive\n",
    "# drive.mount('/gdrive')\n",
    "# %cd \"/gdrive/My Drive/air-pollution\""
   ]
  },
  {
   "cell_type": "markdown",
   "metadata": {},
   "source": [
    "### Modeling"
   ]
  },
  {
   "cell_type": "code",
   "execution_count": 1,
   "metadata": {
    "scrolled": true
   },
   "outputs": [
    {
     "name": "stderr",
     "output_type": "stream",
     "text": [
      "\n",
      "Bad key \"text.kerning_factor\" on line 4 in\n",
      "/home/zafir/miniconda3/envs/tensorflow/lib/python3.6/site-packages/matplotlib/mpl-data/stylelib/_classic_test_patch.mplstyle.\n",
      "You probably need to get an updated matplotlibrc file from\n",
      "https://github.com/matplotlib/matplotlib/blob/v3.1.3/matplotlibrc.template\n",
      "or from the matplotlib source distribution\n"
     ]
    }
   ],
   "source": [
    "import warnings\n",
    "warnings.filterwarnings('ignore')\n",
    "\n",
    "from seq2seq_models import * \n",
    "from kerastuner.tuners import RandomSearch\n",
    "\n",
    "import numpy as np\n",
    "import pandas as pd\n",
    "from scipy.ndimage.interpolation import shift\n",
    "import matplotlib.pyplot as plt"
   ]
  },
  {
   "cell_type": "code",
   "execution_count": 2,
   "metadata": {},
   "outputs": [],
   "source": [
    "train_encoder_input_data = np.load('./data/third-order/seq2seq/train_encoder_input_data.npy')\n",
    "train_decoder_input_data = np.load('./data/third-order/seq2seq/train_decoder_input_data.npy')\n",
    "train_decoder_target_data = np.load('./data/third-order/seq2seq/train_decoder_target_data.npy')\n",
    "\n",
    "valid_encoder_input_data = np.load('./data/third-order/seq2seq/valid_encoder_input_data.npy')\n",
    "valid_decoder_input_data = np.load('./data/third-order/seq2seq/valid_decoder_input_data.npy')\n",
    "valid_decoder_target_data = np.load('./data/third-order/seq2seq/valid_decoder_target_data.npy')\n",
    "\n",
    "test_encoder_input_data = np.load('./data/third-order/seq2seq/test_encoder_input_data.npy')\n",
    "test_decoder_input_data = np.load('./data/third-order/seq2seq/test_decoder_input_data.npy')\n",
    "test_decoder_target_data = np.load('./data/third-order/seq2seq/test_decoder_target_data.npy')"
   ]
  },
  {
   "cell_type": "code",
   "execution_count": 3,
   "metadata": {},
   "outputs": [
    {
     "name": "stdout",
     "output_type": "stream",
     "text": [
      "(67396, 24, 23)\n",
      "(67396, 12, 23)\n",
      "(67396, 12, 2)\n"
     ]
    }
   ],
   "source": [
    "print(train_encoder_input_data.shape)\n",
    "print(train_decoder_input_data.shape)\n",
    "print(train_decoder_target_data.shape)"
   ]
  },
  {
   "cell_type": "code",
   "execution_count": 4,
   "metadata": {},
   "outputs": [],
   "source": [
    "Tx, encoder_input_dim = (train_encoder_input_data.shape[1], \n",
    "                         train_encoder_input_data.shape[2])\n",
    "    \n",
    "Ty, decoder_input_dim = (train_decoder_input_data.shape[1], \n",
    "                         train_decoder_input_data.shape[2])\n",
    "\n",
    "# we are predicting the pollution only, leave out the mask\n",
    "decoder_output_dim = 1  "
   ]
  },
  {
   "cell_type": "code",
   "execution_count": 5,
   "metadata": {},
   "outputs": [],
   "source": [
    "batch_size = 64\n",
    "epochs = 250\n",
    "max_trials = 250\n",
    "executions_per_trial = 1\n",
    "patience = 20"
   ]
  },
  {
   "cell_type": "markdown",
   "metadata": {},
   "source": [
    "## Simple seq2seq"
   ]
  },
  {
   "cell_type": "code",
   "execution_count": 6,
   "metadata": {
    "scrolled": true
   },
   "outputs": [
    {
     "name": "stdout",
     "output_type": "stream",
     "text": [
      "INFO:tensorflow:Reloading Oracle from existing project local-keras-tuner/seq2seq/simple/oracle.json\n",
      "WARNING:tensorflow:Entity <function standard_lstm at 0x7f242072a400> could not be transformed and will be executed as-is. Please report this to the AutoGraph team. When filing the bug, set the verbosity to 10 (on Linux, `export AUTOGRAPH_VERBOSITY=10`) and attach the full output. Cause: converting <function standard_lstm at 0x7f242072a400>: AttributeError: module 'gast' has no attribute 'Num'\n",
      "WARNING: Entity <function standard_lstm at 0x7f242072a400> could not be transformed and will be executed as-is. Please report this to the AutoGraph team. When filing the bug, set the verbosity to 10 (on Linux, `export AUTOGRAPH_VERBOSITY=10`) and attach the full output. Cause: converting <function standard_lstm at 0x7f242072a400>: AttributeError: module 'gast' has no attribute 'Num'\n",
      "WARNING:tensorflow:Entity <function cudnn_lstm at 0x7f242072a488> could not be transformed and will be executed as-is. Please report this to the AutoGraph team. When filing the bug, set the verbosity to 10 (on Linux, `export AUTOGRAPH_VERBOSITY=10`) and attach the full output. Cause: converting <function cudnn_lstm at 0x7f242072a488>: AttributeError: module 'gast' has no attribute 'Num'\n",
      "WARNING: Entity <function cudnn_lstm at 0x7f242072a488> could not be transformed and will be executed as-is. Please report this to the AutoGraph team. When filing the bug, set the verbosity to 10 (on Linux, `export AUTOGRAPH_VERBOSITY=10`) and attach the full output. Cause: converting <function cudnn_lstm at 0x7f242072a488>: AttributeError: module 'gast' has no attribute 'Num'\n",
      "WARNING:tensorflow:Entity <function standard_lstm at 0x7f242072a400> could not be transformed and will be executed as-is. Please report this to the AutoGraph team. When filing the bug, set the verbosity to 10 (on Linux, `export AUTOGRAPH_VERBOSITY=10`) and attach the full output. Cause: converting <function standard_lstm at 0x7f242072a400>: AttributeError: module 'gast' has no attribute 'Num'\n",
      "WARNING: Entity <function standard_lstm at 0x7f242072a400> could not be transformed and will be executed as-is. Please report this to the AutoGraph team. When filing the bug, set the verbosity to 10 (on Linux, `export AUTOGRAPH_VERBOSITY=10`) and attach the full output. Cause: converting <function standard_lstm at 0x7f242072a400>: AttributeError: module 'gast' has no attribute 'Num'\n",
      "WARNING:tensorflow:Entity <function cudnn_lstm at 0x7f242072a488> could not be transformed and will be executed as-is. Please report this to the AutoGraph team. When filing the bug, set the verbosity to 10 (on Linux, `export AUTOGRAPH_VERBOSITY=10`) and attach the full output. Cause: converting <function cudnn_lstm at 0x7f242072a488>: AttributeError: module 'gast' has no attribute 'Num'\n",
      "WARNING: Entity <function cudnn_lstm at 0x7f242072a488> could not be transformed and will be executed as-is. Please report this to the AutoGraph team. When filing the bug, set the verbosity to 10 (on Linux, `export AUTOGRAPH_VERBOSITY=10`) and attach the full output. Cause: converting <function cudnn_lstm at 0x7f242072a488>: AttributeError: module 'gast' has no attribute 'Num'\n",
      "Tensor(\"decoder_dense_target:0\", shape=(None, None, None), dtype=float32)\n",
      "Tensor(\"decoder_dense/Identity:0\", shape=(None, 12, 1), dtype=float32)\n"
     ]
    }
   ],
   "source": [
    "model_builder = SimpleSeq2Seq(Tx, Ty, encoder_input_dim, \n",
    "                             decoder_input_dim, decoder_output_dim)\n",
    "\n",
    "tuner = RandomSearch(model_builder,\n",
    "                     objective='val_loss',\n",
    "                     max_trials=max_trials,\n",
    "                     executions_per_trial=executions_per_trial,\n",
    "                     directory='local-keras-tuner/seq2seq', \n",
    "                     project_name='simple')"
   ]
  },
  {
   "cell_type": "code",
   "execution_count": 7,
   "metadata": {
    "scrolled": true
   },
   "outputs": [
    {
     "name": "stdout",
     "output_type": "stream",
     "text": [
      "WARNING:tensorflow:Entity <function standard_lstm at 0x7f1044de4400> could not be transformed and will be executed as-is. Please report this to the AutoGraph team. When filing the bug, set the verbosity to 10 (on Linux, `export AUTOGRAPH_VERBOSITY=10`) and attach the full output. Cause: converting <function standard_lstm at 0x7f1044de4400>: AttributeError: module 'gast' has no attribute 'Num'\n",
      "WARNING: Entity <function standard_lstm at 0x7f1044de4400> could not be transformed and will be executed as-is. Please report this to the AutoGraph team. When filing the bug, set the verbosity to 10 (on Linux, `export AUTOGRAPH_VERBOSITY=10`) and attach the full output. Cause: converting <function standard_lstm at 0x7f1044de4400>: AttributeError: module 'gast' has no attribute 'Num'\n",
      "WARNING:tensorflow:Entity <function cudnn_lstm at 0x7f1044de4488> could not be transformed and will be executed as-is. Please report this to the AutoGraph team. When filing the bug, set the verbosity to 10 (on Linux, `export AUTOGRAPH_VERBOSITY=10`) and attach the full output. Cause: converting <function cudnn_lstm at 0x7f1044de4488>: AttributeError: module 'gast' has no attribute 'Num'\n",
      "WARNING: Entity <function cudnn_lstm at 0x7f1044de4488> could not be transformed and will be executed as-is. Please report this to the AutoGraph team. When filing the bug, set the verbosity to 10 (on Linux, `export AUTOGRAPH_VERBOSITY=10`) and attach the full output. Cause: converting <function cudnn_lstm at 0x7f1044de4488>: AttributeError: module 'gast' has no attribute 'Num'\n",
      "WARNING:tensorflow:Entity <function standard_lstm at 0x7f1044de4400> could not be transformed and will be executed as-is. Please report this to the AutoGraph team. When filing the bug, set the verbosity to 10 (on Linux, `export AUTOGRAPH_VERBOSITY=10`) and attach the full output. Cause: converting <function standard_lstm at 0x7f1044de4400>: AttributeError: module 'gast' has no attribute 'Num'\n",
      "WARNING: Entity <function standard_lstm at 0x7f1044de4400> could not be transformed and will be executed as-is. Please report this to the AutoGraph team. When filing the bug, set the verbosity to 10 (on Linux, `export AUTOGRAPH_VERBOSITY=10`) and attach the full output. Cause: converting <function standard_lstm at 0x7f1044de4400>: AttributeError: module 'gast' has no attribute 'Num'\n",
      "WARNING:tensorflow:Entity <function cudnn_lstm at 0x7f1044de4488> could not be transformed and will be executed as-is. Please report this to the AutoGraph team. When filing the bug, set the verbosity to 10 (on Linux, `export AUTOGRAPH_VERBOSITY=10`) and attach the full output. Cause: converting <function cudnn_lstm at 0x7f1044de4488>: AttributeError: module 'gast' has no attribute 'Num'\n",
      "WARNING: Entity <function cudnn_lstm at 0x7f1044de4488> could not be transformed and will be executed as-is. Please report this to the AutoGraph team. When filing the bug, set the verbosity to 10 (on Linux, `export AUTOGRAPH_VERBOSITY=10`) and attach the full output. Cause: converting <function cudnn_lstm at 0x7f1044de4488>: AttributeError: module 'gast' has no attribute 'Num'\n",
      "WARNING:tensorflow:From /home/zafir/miniconda3/envs/tensorflow/lib/python3.6/site-packages/tensorflow/python/ops/math_grad.py:1205: add_dispatch_support.<locals>.wrapper (from tensorflow.python.ops.array_ops) is deprecated and will be removed in a future version.\n",
      "Instructions for updating:\n",
      "Use tf.where in 2.0, which has the same broadcast rule as np.where\n",
      "Train on 67396 samples, validate on 3388 samples\n",
      "Epoch 1/250\n"
     ]
    },
    {
     "name": "stdout",
     "output_type": "stream",
     "text": [
      "27264/67396 [===========>..................] - ETA: 20:32 - loss: 1.53 - ETA: 10:47 - loss: 1.31 - ETA: 7:30 - loss: 1.2182 - ETA: 4:45 - loss: 1.016 - ETA: 3:33 - loss: 0.891 - ETA: 3:14 - loss: 0.859 - ETA: 2:59 - loss: 0.802 - ETA: 2:33 - loss: 0.734 - ETA: 2:25 - loss: 0.699 - ETA: 2:09 - loss: 0.655 - ETA: 1:57 - loss: 0.612 - ETA: 1:55 - loss: 0.594 - ETA: 1:54 - loss: 0.577 - ETA: 1:46 - loss: 0.544 - ETA: 1:39 - loss: 0.525 - ETA: 1:34 - loss: 0.504 - ETA: 1:29 - loss: 0.485 - ETA: 1:25 - loss: 0.467 - ETA: 1:22 - loss: 0.450 - ETA: 1:19 - loss: 0.434 - ETA: 1:18 - loss: 0.427 - ETA: 1:19 - loss: 0.420 - ETA: 1:20 - loss: 0.413 - ETA: 1:19 - loss: 0.410 - ETA: 1:19 - loss: 0.406 - ETA: 1:18 - loss: 0.399 - ETA: 1:18 - loss: 0.393 - ETA: 1:17 - loss: 0.388 - ETA: 1:15 - loss: 0.381 - ETA: 1:15 - loss: 0.378 - ETA: 1:16 - loss: 0.373 - ETA: 1:17 - loss: 0.370 - ETA: 1:16 - loss: 0.366 - ETA: 1:16 - loss: 0.362 - ETA: 1:16 - loss: 0.358 - ETA: 1:15 - loss: 0.355 - ETA: 1:15 - loss: 0.350 - ETA: 1:15 - loss: 0.346 - ETA: 1:13 - loss: 0.340 - ETA: 1:13 - loss: 0.336 - ETA: 1:13 - loss: 0.335 - ETA: 1:13 - loss: 0.332 - ETA: 1:11 - loss: 0.327 - ETA: 1:11 - loss: 0.323 - ETA: 1:10 - loss: 0.319 - ETA: 1:08 - loss: 0.314 - ETA: 1:07 - loss: 0.309 - ETA: 1:06 - loss: 0.304 - ETA: 1:05 - loss: 0.300 - ETA: 1:05 - loss: 0.299 - ETA: 1:05 - loss: 0.296 - ETA: 1:04 - loss: 0.294 - ETA: 1:04 - loss: 0.292 - ETA: 1:03 - loss: 0.288 - ETA: 1:03 - loss: 0.284 - ETA: 1:03 - loss: 0.283 - ETA: 1:02 - loss: 0.282 - ETA: 1:03 - loss: 0.280 - ETA: 1:03 - loss: 0.279 - ETA: 1:03 - loss: 0.277 - ETA: 1:03 - loss: 0.276 - ETA: 1:03 - loss: 0.274 - ETA: 1:03 - loss: 0.272 - ETA: 1:03 - loss: 0.271 - ETA: 1:03 - loss: 0.268 - ETA: 1:03 - loss: 0.267 - ETA: 1:02 - loss: 0.266 - ETA: 1:02 - loss: 0.264 - ETA: 1:02 - loss: 0.264 - ETA: 1:01 - loss: 0.261 - ETA: 1:01 - loss: 0.260 - ETA: 1:01 - loss: 0.258 - ETA: 1:00 - loss: 0.256 - ETA: 1:00 - loss: 0.254 - ETA: 1:01 - loss: 0.253 - ETA: 1:01 - loss: 0.252 - ETA: 1:01 - loss: 0.251 - ETA: 1:01 - loss: 0.249 - ETA: 1:01 - loss: 0.248 - ETA: 1:00 - loss: 0.246 - ETA: 1:00 - loss: 0.244 - ETA: 1:00 - loss: 0.242 - ETA: 1:00 - loss: 0.242 - ETA: 1:00 - loss: 0.241 - ETA: 1:00 - loss: 0.240 - ETA: 59s - loss: 0.238 - ETA: 59s - loss: 0.23 - ETA: 59s - loss: 0.23 - ETA: 58s - loss: 0.23 - ETA: 58s - loss: 0.23 - ETA: 58s - loss: 0.23 - ETA: 58s - loss: 0.23 - ETA: 58s - loss: 0.23 - ETA: 58s - loss: 0.22 - ETA: 58s - loss: 0.22 - ETA: 58s - loss: 0.22 - ETA: 57s - loss: 0.22 - ETA: 57s - loss: 0.22 - ETA: 57s - loss: 0.22 - ETA: 56s - loss: 0.22 - ETA: 56s - loss: 0.22 - ETA: 56s - loss: 0.22 - ETA: 56s - loss: 0.22 - ETA: 56s - loss: 0.21 - ETA: 56s - loss: 0.21 - ETA: 56s - loss: 0.21 - ETA: 56s - loss: 0.21 - ETA: 56s - loss: 0.21 - ETA: 56s - loss: 0.21 - ETA: 56s - loss: 0.21 - ETA: 56s - loss: 0.21 - ETA: 56s - loss: 0.21 - ETA: 55s - loss: 0.21 - ETA: 55s - loss: 0.21 - ETA: 55s - loss: 0.20 - ETA: 55s - loss: 0.20 - ETA: 54s - loss: 0.20 - ETA: 54s - loss: 0.20 - ETA: 54s - loss: 0.20 - ETA: 54s - loss: 0.20 - ETA: 54s - loss: 0.20 - ETA: 54s - loss: 0.20 - ETA: 54s - loss: 0.20 - ETA: 54s - loss: 0.20 - ETA: 53s - loss: 0.20 - ETA: 53s - loss: 0.19 - ETA: 53s - loss: 0.19 - ETA: 53s - loss: 0.19 - ETA: 53s - loss: 0.19 - ETA: 53s - loss: 0.19 - ETA: 52s - loss: 0.19 - ETA: 52s - loss: 0.19 - ETA: 52s - loss: 0.19 - ETA: 52s - loss: 0.19 - ETA: 51s - loss: 0.19 - ETA: 51s - loss: 0.19 - ETA: 51s - loss: 0.19 - ETA: 51s - loss: 0.19 - ETA: 51s - loss: 0.18 - ETA: 51s - loss: 0.18 - ETA: 50s - loss: 0.18 - ETA: 50s - loss: 0.18 - ETA: 50s - loss: 0.18 - ETA: 50s - loss: 0.18 - ETA: 50s - loss: 0.18 - ETA: 50s - loss: 0.18 - ETA: 49s - loss: 0.18 - ETA: 49s - loss: 0.18 - ETA: 49s - loss: 0.18 - ETA: 49s - loss: 0.18 - ETA: 49s - loss: 0.18 - ETA: 49s - loss: 0.18 - ETA: 49s - loss: 0.18 - ETA: 48s - loss: 0.18 - ETA: 48s - loss: 0.18 - ETA: 48s - loss: 0.17 - ETA: 48s - loss: 0.17 - ETA: 48s - loss: 0.17 - ETA: 48s - loss: 0.17 - ETA: 48s - loss: 0.17 - ETA: 47s - loss: 0.17 - ETA: 47s - loss: 0.17 - ETA: 47s - loss: 0.17 - ETA: 47s - loss: 0.17 - ETA: 47s - loss: 0.17 - ETA: 47s - loss: 0.17 - ETA: 46s - loss: 0.17 - ETA: 46s - loss: 0.17 - ETA: 46s - loss: 0.17 - ETA: 46s - loss: 0.17 - ETA: 46s - loss: 0.17 - ETA: 46s - loss: 0.17 - ETA: 46s - loss: 0.17 - ETA: 46s - loss: 0.17 - ETA: 46s - loss: 0.17 - ETA: 46s - loss: 0.17 - ETA: 46s - loss: 0.17 - ETA: 46s - loss: 0.16 - ETA: 46s - loss: 0.16 - ETA: 46s - loss: 0.16 - ETA: 46s - loss: 0.16 - ETA: 46s - loss: 0.16 - ETA: 46s - loss: 0.16 - ETA: 46s - loss: 0.16 - ETA: 46s - loss: 0.16 - ETA: 46s - loss: 0.16 - ETA: 46s - loss: 0.16 - ETA: 46s - loss: 0.16 - ETA: 46s - loss: 0.16 - ETA: 46s - loss: 0.16 - ETA: 46s - loss: 0.16 - ETA: 45s - loss: 0.16 - ETA: 45s - loss: 0.16 - ETA: 45s - loss: 0.16 - ETA: 45s - loss: 0.16 - ETA: 45s - loss: 0.16 - ETA: 45s - loss: 0.16 - ETA: 44s - loss: 0.16 - ETA: 44s - loss: 0.16 - ETA: 44s - loss: 0.16 - ETA: 44s - loss: 0.16 - ETA: 44s - loss: 0.16 - ETA: 44s - loss: 0.16 - ETA: 44s - loss: 0.16 - ETA: 44s - loss: 0.16 - ETA: 44s - loss: 0.15 - ETA: 43s - loss: 0.15 - ETA: 43s - loss: 0.15 - ETA: 43s - loss: 0.15 - ETA: 43s - loss: 0.15 - ETA: 43s - loss: 0.15 - ETA: 43s - loss: 0.15 - ETA: 43s - loss: 0.15 - ETA: 43s - loss: 0.15 - ETA: 43s - loss: 0.15 - ETA: 42s - loss: 0.15 - ETA: 42s - loss: 0.15 - ETA: 42s - loss: 0.15 - ETA: 42s - loss: 0.15 - ETA: 42s - loss: 0.15 - ETA: 42s - loss: 0.15 - ETA: 42s - loss: 0.15 - ETA: 42s - loss: 0.15 - ETA: 41s - loss: 0.15 - ETA: 41s - loss: 0.15 - ETA: 41s - loss: 0.15 - ETA: 41s - loss: 0.15 - ETA: 41s - loss: 0.15 - ETA: 41s - loss: 0.15 - ETA: 41s - loss: 0.15 - ETA: 41s - loss: 0.15 - ETA: 41s - loss: 0.15 - ETA: 41s - loss: 0.15 - ETA: 40s - loss: 0.15 - ETA: 40s - loss: 0.14 - ETA: 40s - loss: 0.14 - ETA: 40s - loss: 0.14 - ETA: 40s - loss: 0.14 - ETA: 39s - loss: 0.14 - ETA: 39s - loss: 0.14 - ETA: 39s - loss: 0.14 - ETA: 39s - loss: 0.14 - ETA: 39s - loss: 0.14 - ETA: 39s - loss: 0.14 - ETA: 39s - loss: 0.14 - ETA: 39s - loss: 0.14 - ETA: 39s - loss: 0.14 - ETA: 39s - loss: 0.14 - ETA: 38s - loss: 0.14 - ETA: 38s - loss: 0.14 - ETA: 38s - loss: 0.14 - ETA: 39s - loss: 0.14 - ETA: 39s - loss: 0.14 - ETA: 39s - loss: 0.14 - ETA: 39s - loss: 0.14 - ETA: 39s - loss: 0.14 - ETA: 39s - loss: 0.14 - ETA: 39s - loss: 0.14 - ETA: 39s - loss: 0.14 - ETA: 38s - loss: 0.14 - ETA: 38s - loss: 0.14 - ETA: 38s - loss: 0.14 - ETA: 38s - loss: 0.14 - ETA: 38s - loss: 0.14 - ETA: 38s - loss: 0.14 - ETA: 38s - loss: 0.14 - ETA: 38s - loss: 0.14 - ETA: 38s - loss: 0.14 - ETA: 38s - loss: 0.14 - ETA: 38s - loss: 0.14 - ETA: 38s - loss: 0.14 - ETA: 38s - loss: 0.14 - ETA: 38s - loss: 0.14 - ETA: 38s - loss: 0.14 - ETA: 37s - loss: 0.13 - ETA: 37s - loss: 0.13 - ETA: 37s - loss: 0.13 - ETA: 37s - loss: 0.13 - ETA: 37s - loss: 0.13 - ETA: 37s - loss: 0.13 - ETA: 37s - loss: 0.13 - ETA: 37s - loss: 0.13 - ETA: 37s - loss: 0.13 - ETA: 37s - loss: 0.13 - ETA: 37s - loss: 0.13 - ETA: 37s - loss: 0.13 - ETA: 37s - loss: 0.13 - ETA: 37s - loss: 0.13 - ETA: 37s - loss: 0.13 - ETA: 37s - loss: 0.13 - ETA: 37s - loss: 0.13 - ETA: 37s - loss: 0.13 - ETA: 36s - loss: 0.13 - ETA: 36s - loss: 0.13 - ETA: 36s - loss: 0.13 - ETA: 36s - loss: 0.13 - ETA: 36s - loss: 0.13 - ETA: 36s - loss: 0.13 - ETA: 36s - loss: 0.13 - ETA: 36s - loss: 0.13 - ETA: 36s - loss: 0.13 - ETA: 36s - loss: 0.13 - ETA: 36s - loss: 0.13 - ETA: 36s - loss: 0.13 - ETA: 36s - loss: 0.13 - ETA: 36s - loss: 0.13 - ETA: 36s - loss: 0.13 - ETA: 36s - loss: 0.13 - ETA: 36s - loss: 0.13 - ETA: 36s - loss: 0.13 - ETA: 36s - loss: 0.13 - ETA: 36s - loss: 0.13 - ETA: 36s - loss: 0.13 - ETA: 36s - loss: 0.13 - ETA: 36s - loss: 0.13 - ETA: 36s - loss: 0.13 - ETA: 36s - loss: 0.13 - ETA: 36s - loss: 0.13 - ETA: 36s - loss: 0.13 - ETA: 36s - loss: 0.13 - ETA: 36s - loss: 0.13 - ETA: 36s - loss: 0.13 - ETA: 36s - loss: 0.13 - ETA: 36s - loss: 0.13 - ETA: 36s - loss: 0.13 - ETA: 36s - loss: 0.13 - ETA: 36s - loss: 0.13 - ETA: 36s - loss: 0.13 - ETA: 36s - loss: 0.13 - ETA: 36s - loss: 0.13 - ETA: 36s - loss: 0.13 - ETA: 36s - loss: 0.13 - ETA: 36s - loss: 0.130551008/67396 [=====================>........] - ETA: 36s - loss: 0.13 - ETA: 36s - loss: 0.13 - ETA: 36s - loss: 0.13 - ETA: 36s - loss: 0.13 - ETA: 36s - loss: 0.12 - ETA: 36s - loss: 0.12 - ETA: 36s - loss: 0.12 - ETA: 36s - loss: 0.12 - ETA: 36s - loss: 0.12 - ETA: 36s - loss: 0.12 - ETA: 36s - loss: 0.12 - ETA: 36s - loss: 0.12 - ETA: 36s - loss: 0.12 - ETA: 36s - loss: 0.12 - ETA: 36s - loss: 0.12 - ETA: 36s - loss: 0.12 - ETA: 36s - loss: 0.12 - ETA: 36s - loss: 0.12 - ETA: 36s - loss: 0.12 - ETA: 36s - loss: 0.12 - ETA: 36s - loss: 0.12 - ETA: 36s - loss: 0.12 - ETA: 36s - loss: 0.12 - ETA: 36s - loss: 0.12 - ETA: 36s - loss: 0.12 - ETA: 36s - loss: 0.12 - ETA: 36s - loss: 0.12 - ETA: 36s - loss: 0.12 - ETA: 36s - loss: 0.12 - ETA: 36s - loss: 0.12 - ETA: 36s - loss: 0.12 - ETA: 36s - loss: 0.12 - ETA: 36s - loss: 0.12 - ETA: 36s - loss: 0.12 - ETA: 35s - loss: 0.12 - ETA: 35s - loss: 0.12 - ETA: 35s - loss: 0.12 - ETA: 35s - loss: 0.12 - ETA: 35s - loss: 0.12 - ETA: 35s - loss: 0.12 - ETA: 35s - loss: 0.12 - ETA: 35s - loss: 0.12 - ETA: 35s - loss: 0.12 - ETA: 35s - loss: 0.12 - ETA: 35s - loss: 0.12 - ETA: 35s - loss: 0.12 - ETA: 35s - loss: 0.12 - ETA: 35s - loss: 0.12 - ETA: 35s - loss: 0.12 - ETA: 35s - loss: 0.12 - ETA: 35s - loss: 0.12 - ETA: 35s - loss: 0.12 - ETA: 35s - loss: 0.12 - ETA: 35s - loss: 0.12 - ETA: 35s - loss: 0.12 - ETA: 35s - loss: 0.12 - ETA: 35s - loss: 0.12 - ETA: 34s - loss: 0.12 - ETA: 34s - loss: 0.12 - ETA: 34s - loss: 0.12 - ETA: 34s - loss: 0.12 - ETA: 34s - loss: 0.12 - ETA: 34s - loss: 0.12 - ETA: 34s - loss: 0.12 - ETA: 34s - loss: 0.12 - ETA: 34s - loss: 0.12 - ETA: 34s - loss: 0.12 - ETA: 34s - loss: 0.12 - ETA: 34s - loss: 0.12 - ETA: 34s - loss: 0.12 - ETA: 34s - loss: 0.12 - ETA: 34s - loss: 0.12 - ETA: 34s - loss: 0.12 - ETA: 34s - loss: 0.12 - ETA: 34s - loss: 0.12 - ETA: 34s - loss: 0.12 - ETA: 33s - loss: 0.12 - ETA: 33s - loss: 0.12 - ETA: 33s - loss: 0.12 - ETA: 33s - loss: 0.12 - ETA: 33s - loss: 0.12 - ETA: 33s - loss: 0.12 - ETA: 33s - loss: 0.12 - ETA: 33s - loss: 0.12 - ETA: 33s - loss: 0.12 - ETA: 33s - loss: 0.12 - ETA: 33s - loss: 0.12 - ETA: 33s - loss: 0.12 - ETA: 33s - loss: 0.12 - ETA: 33s - loss: 0.12 - ETA: 33s - loss: 0.12 - ETA: 32s - loss: 0.12 - ETA: 32s - loss: 0.11 - ETA: 32s - loss: 0.11 - ETA: 32s - loss: 0.11 - ETA: 32s - loss: 0.11 - ETA: 32s - loss: 0.11 - ETA: 32s - loss: 0.11 - ETA: 32s - loss: 0.11 - ETA: 32s - loss: 0.11 - ETA: 32s - loss: 0.11 - ETA: 31s - loss: 0.11 - ETA: 31s - loss: 0.11 - ETA: 31s - loss: 0.11 - ETA: 31s - loss: 0.11 - ETA: 31s - loss: 0.11 - ETA: 31s - loss: 0.11 - ETA: 31s - loss: 0.11 - ETA: 31s - loss: 0.11 - ETA: 30s - loss: 0.11 - ETA: 30s - loss: 0.11 - ETA: 30s - loss: 0.11 - ETA: 30s - loss: 0.11 - ETA: 30s - loss: 0.11 - ETA: 30s - loss: 0.11 - ETA: 30s - loss: 0.11 - ETA: 30s - loss: 0.11 - ETA: 29s - loss: 0.11 - ETA: 29s - loss: 0.11 - ETA: 29s - loss: 0.11 - ETA: 29s - loss: 0.11 - ETA: 29s - loss: 0.11 - ETA: 29s - loss: 0.11 - ETA: 29s - loss: 0.11 - ETA: 29s - loss: 0.11 - ETA: 29s - loss: 0.11 - ETA: 29s - loss: 0.11 - ETA: 29s - loss: 0.11 - ETA: 29s - loss: 0.11 - ETA: 29s - loss: 0.11 - ETA: 28s - loss: 0.11 - ETA: 28s - loss: 0.11 - ETA: 28s - loss: 0.11 - ETA: 28s - loss: 0.11 - ETA: 28s - loss: 0.11 - ETA: 28s - loss: 0.11 - ETA: 28s - loss: 0.11 - ETA: 28s - loss: 0.11 - ETA: 28s - loss: 0.11 - ETA: 28s - loss: 0.11 - ETA: 28s - loss: 0.11 - ETA: 28s - loss: 0.11 - ETA: 28s - loss: 0.11 - ETA: 28s - loss: 0.11 - ETA: 28s - loss: 0.11 - ETA: 27s - loss: 0.11 - ETA: 27s - loss: 0.11 - ETA: 27s - loss: 0.11 - ETA: 27s - loss: 0.11 - ETA: 27s - loss: 0.11 - ETA: 27s - loss: 0.11 - ETA: 27s - loss: 0.11 - ETA: 27s - loss: 0.11 - ETA: 27s - loss: 0.11 - ETA: 27s - loss: 0.11 - ETA: 27s - loss: 0.11 - ETA: 27s - loss: 0.11 - ETA: 27s - loss: 0.11 - ETA: 27s - loss: 0.11 - ETA: 27s - loss: 0.11 - ETA: 27s - loss: 0.11 - ETA: 27s - loss: 0.11 - ETA: 27s - loss: 0.11 - ETA: 27s - loss: 0.11 - ETA: 27s - loss: 0.11 - ETA: 27s - loss: 0.11 - ETA: 26s - loss: 0.11 - ETA: 26s - loss: 0.11 - ETA: 26s - loss: 0.11 - ETA: 26s - loss: 0.11 - ETA: 26s - loss: 0.11 - ETA: 26s - loss: 0.11 - ETA: 26s - loss: 0.11 - ETA: 26s - loss: 0.11 - ETA: 26s - loss: 0.11 - ETA: 26s - loss: 0.11 - ETA: 26s - loss: 0.11 - ETA: 26s - loss: 0.11 - ETA: 26s - loss: 0.11 - ETA: 26s - loss: 0.11 - ETA: 26s - loss: 0.11 - ETA: 26s - loss: 0.11 - ETA: 26s - loss: 0.11 - ETA: 26s - loss: 0.11 - ETA: 25s - loss: 0.11 - ETA: 25s - loss: 0.11 - ETA: 25s - loss: 0.11 - ETA: 25s - loss: 0.11 - ETA: 25s - loss: 0.11 - ETA: 25s - loss: 0.11 - ETA: 25s - loss: 0.11 - ETA: 25s - loss: 0.11 - ETA: 25s - loss: 0.11 - ETA: 25s - loss: 0.11 - ETA: 25s - loss: 0.11 - ETA: 25s - loss: 0.11 - ETA: 24s - loss: 0.11 - ETA: 24s - loss: 0.11 - ETA: 24s - loss: 0.11 - ETA: 24s - loss: 0.11 - ETA: 24s - loss: 0.11 - ETA: 24s - loss: 0.11 - ETA: 24s - loss: 0.11 - ETA: 24s - loss: 0.11 - ETA: 24s - loss: 0.10 - ETA: 24s - loss: 0.10 - ETA: 24s - loss: 0.10 - ETA: 24s - loss: 0.10 - ETA: 24s - loss: 0.10 - ETA: 24s - loss: 0.10 - ETA: 23s - loss: 0.10 - ETA: 23s - loss: 0.10 - ETA: 23s - loss: 0.10 - ETA: 23s - loss: 0.10 - ETA: 23s - loss: 0.10 - ETA: 23s - loss: 0.10 - ETA: 23s - loss: 0.10 - ETA: 23s - loss: 0.10 - ETA: 23s - loss: 0.10 - ETA: 23s - loss: 0.10 - ETA: 23s - loss: 0.10 - ETA: 23s - loss: 0.10 - ETA: 23s - loss: 0.10 - ETA: 23s - loss: 0.10 - ETA: 23s - loss: 0.10 - ETA: 23s - loss: 0.10 - ETA: 23s - loss: 0.10 - ETA: 23s - loss: 0.10 - ETA: 23s - loss: 0.10 - ETA: 22s - loss: 0.10 - ETA: 22s - loss: 0.10 - ETA: 22s - loss: 0.10 - ETA: 22s - loss: 0.10 - ETA: 22s - loss: 0.10 - ETA: 22s - loss: 0.10 - ETA: 22s - loss: 0.10 - ETA: 22s - loss: 0.10 - ETA: 22s - loss: 0.10 - ETA: 22s - loss: 0.10 - ETA: 22s - loss: 0.10 - ETA: 22s - loss: 0.10 - ETA: 22s - loss: 0.10 - ETA: 22s - loss: 0.10 - ETA: 22s - loss: 0.10 - ETA: 22s - loss: 0.10 - ETA: 22s - loss: 0.10 - ETA: 22s - loss: 0.10 - ETA: 22s - loss: 0.10 - ETA: 21s - loss: 0.10 - ETA: 21s - loss: 0.10 - ETA: 21s - loss: 0.10 - ETA: 21s - loss: 0.10 - ETA: 21s - loss: 0.10 - ETA: 21s - loss: 0.10 - ETA: 21s - loss: 0.10 - ETA: 21s - loss: 0.10 - ETA: 21s - loss: 0.10 - ETA: 21s - loss: 0.10 - ETA: 21s - loss: 0.10 - ETA: 21s - loss: 0.10 - ETA: 21s - loss: 0.10 - ETA: 21s - loss: 0.10 - ETA: 21s - loss: 0.10 - ETA: 21s - loss: 0.10 - ETA: 21s - loss: 0.10 - ETA: 21s - loss: 0.10 - ETA: 21s - loss: 0.10 - ETA: 21s - loss: 0.10 - ETA: 21s - loss: 0.10 - ETA: 20s - loss: 0.10 - ETA: 20s - loss: 0.10 - ETA: 20s - loss: 0.10 - ETA: 20s - loss: 0.10 - ETA: 20s - loss: 0.10 - ETA: 20s - loss: 0.10 - ETA: 20s - loss: 0.10 - ETA: 20s - loss: 0.10 - ETA: 20s - loss: 0.10 - ETA: 20s - loss: 0.10 - ETA: 20s - loss: 0.10 - ETA: 20s - loss: 0.10 - ETA: 20s - loss: 0.10 - ETA: 20s - loss: 0.10 - ETA: 20s - loss: 0.10 - ETA: 20s - loss: 0.10 - ETA: 20s - loss: 0.10 - ETA: 20s - loss: 0.10 - ETA: 20s - loss: 0.10 - ETA: 20s - loss: 0.10 - ETA: 20s - loss: 0.10 - ETA: 19s - loss: 0.10 - ETA: 19s - loss: 0.10 - ETA: 19s - loss: 0.10 - ETA: 19s - loss: 0.10 - ETA: 19s - loss: 0.10 - ETA: 19s - loss: 0.10 - ETA: 19s - loss: 0.10 - ETA: 19s - loss: 0.10 - ETA: 19s - loss: 0.10 - ETA: 19s - loss: 0.10 - ETA: 19s - loss: 0.10 - ETA: 19s - loss: 0.10 - ETA: 19s - loss: 0.10 - ETA: 19s - loss: 0.10 - ETA: 19s - loss: 0.10 - ETA: 19s - loss: 0.10 - ETA: 19s - loss: 0.10 - ETA: 19s - loss: 0.10 - ETA: 18s - loss: 0.10 - ETA: 18s - loss: 0.10 - ETA: 18s - loss: 0.10 - ETA: 18s - loss: 0.10 - ETA: 18s - loss: 0.10 - ETA: 18s - loss: 0.10 - ETA: 18s - loss: 0.10 - ETA: 18s - loss: 0.10 - ETA: 18s - loss: 0.10 - ETA: 18s - loss: 0.10 - ETA: 18s - loss: 0.10 - ETA: 18s - loss: 0.10 - ETA: 17s - loss: 0.10 - ETA: 17s - loss: 0.10 - ETA: 17s - loss: 0.10 - ETA: 17s - loss: 0.10 - ETA: 17s - loss: 0.10 - ETA: 17s - loss: 0.10 - ETA: 17s - loss: 0.10 - ETA: 17s - loss: 0.10 - ETA: 17s - loss: 0.10 - ETA: 17s - loss: 0.10 - ETA: 17s - loss: 0.10 - ETA: 17s - loss: 0.10 - ETA: 17s - loss: 0.10 - ETA: 17s - loss: 0.10 - ETA: 17s - loss: 0.10 - ETA: 17s - loss: 0.10 - ETA: 17s - loss: 0.10 - ETA: 16s - loss: 0.10 - ETA: 16s - loss: 0.10 - ETA: 16s - loss: 0.1021"
     ]
    },
    {
     "name": "stdout",
     "output_type": "stream",
     "text": [
      "67396/67396 [==============================] - ETA: 16s - loss: 0.10 - ETA: 16s - loss: 0.10 - ETA: 16s - loss: 0.10 - ETA: 16s - loss: 0.10 - ETA: 16s - loss: 0.10 - ETA: 16s - loss: 0.10 - ETA: 16s - loss: 0.10 - ETA: 16s - loss: 0.10 - ETA: 16s - loss: 0.10 - ETA: 16s - loss: 0.10 - ETA: 16s - loss: 0.10 - ETA: 16s - loss: 0.10 - ETA: 16s - loss: 0.10 - ETA: 15s - loss: 0.10 - ETA: 15s - loss: 0.10 - ETA: 15s - loss: 0.10 - ETA: 15s - loss: 0.10 - ETA: 15s - loss: 0.10 - ETA: 15s - loss: 0.10 - ETA: 15s - loss: 0.10 - ETA: 15s - loss: 0.10 - ETA: 15s - loss: 0.10 - ETA: 15s - loss: 0.10 - ETA: 15s - loss: 0.10 - ETA: 15s - loss: 0.10 - ETA: 15s - loss: 0.10 - ETA: 15s - loss: 0.10 - ETA: 15s - loss: 0.10 - ETA: 15s - loss: 0.10 - ETA: 14s - loss: 0.10 - ETA: 14s - loss: 0.10 - ETA: 14s - loss: 0.10 - ETA: 14s - loss: 0.10 - ETA: 14s - loss: 0.10 - ETA: 14s - loss: 0.10 - ETA: 14s - loss: 0.10 - ETA: 14s - loss: 0.10 - ETA: 14s - loss: 0.10 - ETA: 14s - loss: 0.10 - ETA: 14s - loss: 0.10 - ETA: 14s - loss: 0.10 - ETA: 14s - loss: 0.10 - ETA: 13s - loss: 0.10 - ETA: 13s - loss: 0.09 - ETA: 13s - loss: 0.09 - ETA: 13s - loss: 0.09 - ETA: 13s - loss: 0.09 - ETA: 13s - loss: 0.09 - ETA: 13s - loss: 0.09 - ETA: 13s - loss: 0.09 - ETA: 13s - loss: 0.09 - ETA: 13s - loss: 0.09 - ETA: 13s - loss: 0.09 - ETA: 12s - loss: 0.09 - ETA: 12s - loss: 0.09 - ETA: 12s - loss: 0.09 - ETA: 12s - loss: 0.09 - ETA: 12s - loss: 0.09 - ETA: 12s - loss: 0.09 - ETA: 12s - loss: 0.09 - ETA: 12s - loss: 0.09 - ETA: 12s - loss: 0.09 - ETA: 12s - loss: 0.09 - ETA: 12s - loss: 0.09 - ETA: 12s - loss: 0.09 - ETA: 12s - loss: 0.09 - ETA: 11s - loss: 0.09 - ETA: 11s - loss: 0.09 - ETA: 11s - loss: 0.09 - ETA: 11s - loss: 0.09 - ETA: 11s - loss: 0.09 - ETA: 11s - loss: 0.09 - ETA: 11s - loss: 0.09 - ETA: 11s - loss: 0.09 - ETA: 11s - loss: 0.09 - ETA: 11s - loss: 0.09 - ETA: 11s - loss: 0.09 - ETA: 11s - loss: 0.09 - ETA: 11s - loss: 0.09 - ETA: 11s - loss: 0.09 - ETA: 11s - loss: 0.09 - ETA: 11s - loss: 0.09 - ETA: 11s - loss: 0.09 - ETA: 10s - loss: 0.09 - ETA: 10s - loss: 0.09 - ETA: 10s - loss: 0.09 - ETA: 10s - loss: 0.09 - ETA: 10s - loss: 0.09 - ETA: 10s - loss: 0.09 - ETA: 10s - loss: 0.09 - ETA: 10s - loss: 0.09 - ETA: 10s - loss: 0.09 - ETA: 10s - loss: 0.09 - ETA: 10s - loss: 0.09 - ETA: 10s - loss: 0.09 - ETA: 10s - loss: 0.09 - ETA: 10s - loss: 0.09 - ETA: 10s - loss: 0.09 - ETA: 10s - loss: 0.09 - ETA: 9s - loss: 0.0976 - ETA: 9s - loss: 0.097 - ETA: 9s - loss: 0.097 - ETA: 9s - loss: 0.097 - ETA: 9s - loss: 0.097 - ETA: 9s - loss: 0.097 - ETA: 9s - loss: 0.097 - ETA: 9s - loss: 0.097 - ETA: 9s - loss: 0.097 - ETA: 9s - loss: 0.097 - ETA: 9s - loss: 0.097 - ETA: 8s - loss: 0.097 - ETA: 8s - loss: 0.097 - ETA: 8s - loss: 0.096 - ETA: 8s - loss: 0.096 - ETA: 8s - loss: 0.096 - ETA: 8s - loss: 0.096 - ETA: 8s - loss: 0.096 - ETA: 8s - loss: 0.096 - ETA: 8s - loss: 0.096 - ETA: 8s - loss: 0.096 - ETA: 8s - loss: 0.096 - ETA: 8s - loss: 0.096 - ETA: 7s - loss: 0.096 - ETA: 7s - loss: 0.096 - ETA: 7s - loss: 0.096 - ETA: 7s - loss: 0.096 - ETA: 7s - loss: 0.096 - ETA: 7s - loss: 0.096 - ETA: 7s - loss: 0.096 - ETA: 7s - loss: 0.096 - ETA: 7s - loss: 0.096 - ETA: 7s - loss: 0.096 - ETA: 7s - loss: 0.096 - ETA: 7s - loss: 0.096 - ETA: 7s - loss: 0.096 - ETA: 7s - loss: 0.096 - ETA: 6s - loss: 0.095 - ETA: 6s - loss: 0.095 - ETA: 6s - loss: 0.095 - ETA: 6s - loss: 0.095 - ETA: 6s - loss: 0.095 - ETA: 6s - loss: 0.095 - ETA: 6s - loss: 0.095 - ETA: 6s - loss: 0.095 - ETA: 6s - loss: 0.095 - ETA: 6s - loss: 0.095 - ETA: 6s - loss: 0.095 - ETA: 6s - loss: 0.095 - ETA: 6s - loss: 0.095 - ETA: 6s - loss: 0.095 - ETA: 6s - loss: 0.095 - ETA: 6s - loss: 0.095 - ETA: 5s - loss: 0.095 - ETA: 5s - loss: 0.095 - ETA: 5s - loss: 0.095 - ETA: 5s - loss: 0.095 - ETA: 5s - loss: 0.095 - ETA: 5s - loss: 0.095 - ETA: 5s - loss: 0.095 - ETA: 5s - loss: 0.095 - ETA: 5s - loss: 0.095 - ETA: 5s - loss: 0.095 - ETA: 5s - loss: 0.095 - ETA: 5s - loss: 0.095 - ETA: 5s - loss: 0.095 - ETA: 5s - loss: 0.095 - ETA: 5s - loss: 0.095 - ETA: 4s - loss: 0.095 - ETA: 4s - loss: 0.095 - ETA: 4s - loss: 0.094 - ETA: 4s - loss: 0.094 - ETA: 4s - loss: 0.094 - ETA: 4s - loss: 0.094 - ETA: 4s - loss: 0.094 - ETA: 4s - loss: 0.094 - ETA: 4s - loss: 0.094 - ETA: 4s - loss: 0.094 - ETA: 4s - loss: 0.094 - ETA: 4s - loss: 0.094 - ETA: 4s - loss: 0.094 - ETA: 3s - loss: 0.094 - ETA: 3s - loss: 0.094 - ETA: 3s - loss: 0.094 - ETA: 3s - loss: 0.094 - ETA: 3s - loss: 0.094 - ETA: 3s - loss: 0.094 - ETA: 3s - loss: 0.094 - ETA: 3s - loss: 0.094 - ETA: 3s - loss: 0.094 - ETA: 3s - loss: 0.094 - ETA: 3s - loss: 0.094 - ETA: 3s - loss: 0.094 - ETA: 2s - loss: 0.094 - ETA: 2s - loss: 0.094 - ETA: 2s - loss: 0.094 - ETA: 2s - loss: 0.094 - ETA: 2s - loss: 0.094 - ETA: 2s - loss: 0.094 - ETA: 2s - loss: 0.094 - ETA: 2s - loss: 0.093 - ETA: 2s - loss: 0.093 - ETA: 2s - loss: 0.093 - ETA: 2s - loss: 0.093 - ETA: 2s - loss: 0.093 - ETA: 2s - loss: 0.093 - ETA: 1s - loss: 0.093 - ETA: 1s - loss: 0.093 - ETA: 1s - loss: 0.093 - ETA: 1s - loss: 0.093 - ETA: 1s - loss: 0.093 - ETA: 1s - loss: 0.093 - ETA: 1s - loss: 0.093 - ETA: 1s - loss: 0.093 - ETA: 1s - loss: 0.093 - ETA: 1s - loss: 0.093 - ETA: 1s - loss: 0.093 - ETA: 1s - loss: 0.093 - ETA: 1s - loss: 0.093 - ETA: 0s - loss: 0.093 - ETA: 0s - loss: 0.093 - ETA: 0s - loss: 0.093 - ETA: 0s - loss: 0.093 - ETA: 0s - loss: 0.092 - ETA: 0s - loss: 0.092 - ETA: 0s - loss: 0.092 - ETA: 0s - loss: 0.092 - ETA: 0s - loss: 0.092 - ETA: 0s - loss: 0.092 - ETA: 0s - loss: 0.092 - ETA: 0s - loss: 0.092 - 73s 1ms/sample - loss: 0.0927 - val_loss: 0.0473\n",
      "Epoch 2/250\n",
      "30336/67396 [============>.................] - ETA: 1:04 - loss: 0.065 - ETA: 1:02 - loss: 0.056 - ETA: 1:04 - loss: 0.056 - ETA: 1:01 - loss: 0.058 - ETA: 1:07 - loss: 0.056 - ETA: 1:07 - loss: 0.058 - ETA: 1:09 - loss: 0.060 - ETA: 1:02 - loss: 0.060 - ETA: 1:01 - loss: 0.062 - ETA: 1:01 - loss: 0.062 - ETA: 1:01 - loss: 0.063 - ETA: 58s - loss: 0.062 - ETA: 55s - loss: 0.06 - ETA: 53s - loss: 0.06 - ETA: 54s - loss: 0.06 - ETA: 54s - loss: 0.06 - ETA: 53s - loss: 0.06 - ETA: 53s - loss: 0.06 - ETA: 52s - loss: 0.06 - ETA: 52s - loss: 0.06 - ETA: 52s - loss: 0.06 - ETA: 52s - loss: 0.06 - ETA: 51s - loss: 0.06 - ETA: 51s - loss: 0.06 - ETA: 50s - loss: 0.06 - ETA: 50s - loss: 0.06 - ETA: 50s - loss: 0.06 - ETA: 49s - loss: 0.06 - ETA: 49s - loss: 0.06 - ETA: 49s - loss: 0.06 - ETA: 49s - loss: 0.06 - ETA: 48s - loss: 0.06 - ETA: 48s - loss: 0.06 - ETA: 47s - loss: 0.06 - ETA: 47s - loss: 0.06 - ETA: 47s - loss: 0.06 - ETA: 48s - loss: 0.06 - ETA: 48s - loss: 0.06 - ETA: 48s - loss: 0.06 - ETA: 48s - loss: 0.06 - ETA: 49s - loss: 0.06 - ETA: 49s - loss: 0.06 - ETA: 49s - loss: 0.06 - ETA: 49s - loss: 0.06 - ETA: 50s - loss: 0.06 - ETA: 50s - loss: 0.06 - ETA: 50s - loss: 0.06 - ETA: 49s - loss: 0.06 - ETA: 49s - loss: 0.06 - ETA: 50s - loss: 0.06 - ETA: 50s - loss: 0.06 - ETA: 50s - loss: 0.06 - ETA: 50s - loss: 0.06 - ETA: 50s - loss: 0.06 - ETA: 50s - loss: 0.06 - ETA: 50s - loss: 0.06 - ETA: 50s - loss: 0.06 - ETA: 51s - loss: 0.06 - ETA: 51s - loss: 0.06 - ETA: 51s - loss: 0.06 - ETA: 50s - loss: 0.06 - ETA: 50s - loss: 0.06 - ETA: 50s - loss: 0.06 - ETA: 51s - loss: 0.06 - ETA: 50s - loss: 0.06 - ETA: 50s - loss: 0.06 - ETA: 49s - loss: 0.06 - ETA: 49s - loss: 0.06 - ETA: 49s - loss: 0.06 - ETA: 49s - loss: 0.06 - ETA: 49s - loss: 0.06 - ETA: 49s - loss: 0.06 - ETA: 49s - loss: 0.06 - ETA: 49s - loss: 0.06 - ETA: 49s - loss: 0.06 - ETA: 49s - loss: 0.06 - ETA: 49s - loss: 0.06 - ETA: 49s - loss: 0.06 - ETA: 50s - loss: 0.06 - ETA: 50s - loss: 0.06 - ETA: 50s - loss: 0.06 - ETA: 50s - loss: 0.06 - ETA: 50s - loss: 0.06 - ETA: 50s - loss: 0.06 - ETA: 50s - loss: 0.06 - ETA: 50s - loss: 0.06 - ETA: 50s - loss: 0.06 - ETA: 50s - loss: 0.06 - ETA: 50s - loss: 0.06 - ETA: 50s - loss: 0.06 - ETA: 50s - loss: 0.06 - ETA: 49s - loss: 0.06 - ETA: 49s - loss: 0.06 - ETA: 49s - loss: 0.06 - ETA: 49s - loss: 0.06 - ETA: 49s - loss: 0.06 - ETA: 49s - loss: 0.06 - ETA: 49s - loss: 0.06 - ETA: 49s - loss: 0.06 - ETA: 49s - loss: 0.06 - ETA: 49s - loss: 0.06 - ETA: 50s - loss: 0.06 - ETA: 49s - loss: 0.06 - ETA: 49s - loss: 0.06 - ETA: 48s - loss: 0.06 - ETA: 48s - loss: 0.06 - ETA: 48s - loss: 0.06 - ETA: 48s - loss: 0.06 - ETA: 47s - loss: 0.06 - ETA: 47s - loss: 0.06 - ETA: 47s - loss: 0.06 - ETA: 47s - loss: 0.06 - ETA: 47s - loss: 0.06 - ETA: 47s - loss: 0.06 - ETA: 47s - loss: 0.06 - ETA: 47s - loss: 0.06 - ETA: 47s - loss: 0.06 - ETA: 46s - loss: 0.06 - ETA: 46s - loss: 0.06 - ETA: 46s - loss: 0.06 - ETA: 46s - loss: 0.06 - ETA: 46s - loss: 0.06 - ETA: 46s - loss: 0.06 - ETA: 45s - loss: 0.06 - ETA: 45s - loss: 0.06 - ETA: 45s - loss: 0.06 - ETA: 45s - loss: 0.06 - ETA: 45s - loss: 0.06 - ETA: 45s - loss: 0.06 - ETA: 45s - loss: 0.06 - ETA: 45s - loss: 0.06 - ETA: 45s - loss: 0.06 - ETA: 45s - loss: 0.06 - ETA: 45s - loss: 0.06 - ETA: 45s - loss: 0.06 - ETA: 44s - loss: 0.06 - ETA: 44s - loss: 0.06 - ETA: 44s - loss: 0.06 - ETA: 44s - loss: 0.06 - ETA: 44s - loss: 0.06 - ETA: 44s - loss: 0.06 - ETA: 43s - loss: 0.06 - ETA: 43s - loss: 0.06 - ETA: 43s - loss: 0.06 - ETA: 43s - loss: 0.06 - ETA: 43s - loss: 0.06 - ETA: 43s - loss: 0.06 - ETA: 43s - loss: 0.06 - ETA: 43s - loss: 0.06 - ETA: 43s - loss: 0.06 - ETA: 43s - loss: 0.06 - ETA: 43s - loss: 0.06 - ETA: 43s - loss: 0.06 - ETA: 43s - loss: 0.06 - ETA: 43s - loss: 0.06 - ETA: 43s - loss: 0.06 - ETA: 42s - loss: 0.06 - ETA: 42s - loss: 0.06 - ETA: 42s - loss: 0.06 - ETA: 42s - loss: 0.06 - ETA: 42s - loss: 0.06 - ETA: 41s - loss: 0.06 - ETA: 41s - loss: 0.06 - ETA: 41s - loss: 0.06 - ETA: 41s - loss: 0.06 - ETA: 41s - loss: 0.06 - ETA: 41s - loss: 0.06 - ETA: 41s - loss: 0.06 - ETA: 40s - loss: 0.06 - ETA: 40s - loss: 0.06 - ETA: 40s - loss: 0.06 - ETA: 40s - loss: 0.06 - ETA: 40s - loss: 0.06 - ETA: 40s - loss: 0.06 - ETA: 39s - loss: 0.06 - ETA: 39s - loss: 0.06 - ETA: 39s - loss: 0.06 - ETA: 39s - loss: 0.06 - ETA: 39s - loss: 0.06 - ETA: 39s - loss: 0.06 - ETA: 39s - loss: 0.06 - ETA: 39s - loss: 0.06 - ETA: 39s - loss: 0.06 - ETA: 38s - loss: 0.06 - ETA: 38s - loss: 0.06 - ETA: 38s - loss: 0.06 - ETA: 38s - loss: 0.06 - ETA: 38s - loss: 0.06 - ETA: 38s - loss: 0.06 - ETA: 38s - loss: 0.06 - ETA: 38s - loss: 0.06 - ETA: 38s - loss: 0.06 - ETA: 37s - loss: 0.06 - ETA: 37s - loss: 0.06 - ETA: 37s - loss: 0.06 - ETA: 37s - loss: 0.06 - ETA: 37s - loss: 0.06 - ETA: 37s - loss: 0.06 - ETA: 37s - loss: 0.06 - ETA: 37s - loss: 0.06 - ETA: 36s - loss: 0.06 - ETA: 36s - loss: 0.06 - ETA: 36s - loss: 0.06 - ETA: 36s - loss: 0.06 - ETA: 36s - loss: 0.06 - ETA: 36s - loss: 0.06 - ETA: 36s - loss: 0.06 - ETA: 36s - loss: 0.06 - ETA: 36s - loss: 0.06 - ETA: 36s - loss: 0.06 - ETA: 35s - loss: 0.06 - ETA: 35s - loss: 0.06 - ETA: 35s - loss: 0.06 - ETA: 35s - loss: 0.06 - ETA: 35s - loss: 0.06 - ETA: 35s - loss: 0.06 - ETA: 35s - loss: 0.06 - ETA: 35s - loss: 0.06 - ETA: 35s - loss: 0.06 - ETA: 35s - loss: 0.06 - ETA: 35s - loss: 0.06 - ETA: 35s - loss: 0.06 - ETA: 35s - loss: 0.06 - ETA: 34s - loss: 0.06 - ETA: 34s - loss: 0.06 - ETA: 34s - loss: 0.06 - ETA: 34s - loss: 0.06 - ETA: 34s - loss: 0.06 - ETA: 34s - loss: 0.06 - ETA: 34s - loss: 0.06 - ETA: 34s - loss: 0.06 - ETA: 34s - loss: 0.06 - ETA: 34s - loss: 0.06 - ETA: 34s - loss: 0.06 - ETA: 34s - loss: 0.06 - ETA: 34s - loss: 0.06 - ETA: 33s - loss: 0.06 - ETA: 33s - loss: 0.06 - ETA: 33s - loss: 0.06 - ETA: 33s - loss: 0.06 - ETA: 33s - loss: 0.06 - ETA: 33s - loss: 0.06 - ETA: 33s - loss: 0.06 - ETA: 33s - loss: 0.06 - ETA: 33s - loss: 0.06 - ETA: 33s - loss: 0.06 - ETA: 33s - loss: 0.06 - ETA: 33s - loss: 0.06 - ETA: 32s - loss: 0.06 - ETA: 32s - loss: 0.06 - ETA: 32s - loss: 0.06 - ETA: 32s - loss: 0.06 - ETA: 32s - loss: 0.06 - ETA: 32s - loss: 0.06 - ETA: 32s - loss: 0.06 - ETA: 32s - loss: 0.06 - ETA: 32s - loss: 0.06 - ETA: 31s - loss: 0.06 - ETA: 31s - loss: 0.06 - ETA: 31s - loss: 0.06 - ETA: 31s - loss: 0.06 - ETA: 31s - loss: 0.06 - ETA: 31s - loss: 0.06 - ETA: 31s - loss: 0.06 - ETA: 31s - loss: 0.06 - ETA: 31s - loss: 0.06 - ETA: 31s - loss: 0.06 - ETA: 31s - loss: 0.06 - ETA: 31s - loss: 0.06 - ETA: 30s - loss: 0.06 - ETA: 30s - loss: 0.06 - ETA: 30s - loss: 0.06 - ETA: 30s - loss: 0.06 - ETA: 30s - loss: 0.06 - ETA: 30s - loss: 0.06 - ETA: 30s - loss: 0.06 - ETA: 30s - loss: 0.06 - ETA: 30s - loss: 0.06 - ETA: 30s - loss: 0.06 - ETA: 30s - loss: 0.06 - ETA: 30s - loss: 0.06 - ETA: 30s - loss: 0.06 - ETA: 30s - loss: 0.06 - ETA: 30s - loss: 0.06 - ETA: 30s - loss: 0.06 - ETA: 29s - loss: 0.06 - ETA: 29s - loss: 0.06 - ETA: 29s - loss: 0.06 - ETA: 29s - loss: 0.06 - ETA: 29s - loss: 0.06 - ETA: 29s - loss: 0.06 - ETA: 29s - loss: 0.06 - ETA: 29s - loss: 0.06 - ETA: 29s - loss: 0.06 - ETA: 29s - loss: 0.06 - ETA: 29s - loss: 0.06 - ETA: 29s - loss: 0.06 - ETA: 28s - loss: 0.06 - ETA: 28s - loss: 0.06 - ETA: 28s - loss: 0.06 - ETA: 28s - loss: 0.06 - ETA: 28s - loss: 0.06 - ETA: 28s - loss: 0.06 - ETA: 28s - loss: 0.06 - ETA: 28s - loss: 0.06 - ETA: 28s - loss: 0.06 - ETA: 28s - loss: 0.06 - ETA: 28s - loss: 0.06 - ETA: 28s - loss: 0.06 - ETA: 28s - loss: 0.06 - ETA: 28s - loss: 0.06 - ETA: 28s - loss: 0.06 - ETA: 28s - loss: 0.06 - ETA: 27s - loss: 0.06 - ETA: 27s - loss: 0.06 - ETA: 27s - loss: 0.06 - ETA: 27s - loss: 0.06 - ETA: 27s - loss: 0.06 - ETA: 27s - loss: 0.06 - ETA: 27s - loss: 0.06 - ETA: 27s - loss: 0.06 - ETA: 27s - loss: 0.06 - ETA: 27s - loss: 0.06 - ETA: 26s - loss: 0.06 - ETA: 26s - loss: 0.06 - ETA: 26s - loss: 0.06 - ETA: 26s - loss: 0.06 - ETA: 26s - loss: 0.06 - ETA: 26s - loss: 0.0626"
     ]
    },
    {
     "ename": "KeyboardInterrupt",
     "evalue": "",
     "output_type": "error",
     "traceback": [
      "\u001b[0;31m---------------------------------------------------------------------------\u001b[0m",
      "\u001b[0;31mKeyboardInterrupt\u001b[0m                         Traceback (most recent call last)",
      "\u001b[0;32m<ipython-input-7-55cd88cc1ce2>\u001b[0m in \u001b[0;36m<module>\u001b[0;34m\u001b[0m\n\u001b[1;32m     10\u001b[0m              callbacks=[EarlyStopping(monitor='val_loss', \n\u001b[1;32m     11\u001b[0m                                       \u001b[0mpatience\u001b[0m\u001b[0;34m=\u001b[0m\u001b[0mpatience\u001b[0m\u001b[0;34m,\u001b[0m\u001b[0;34m\u001b[0m\u001b[0;34m\u001b[0m\u001b[0m\n\u001b[0;32m---> 12\u001b[0;31m                                       verbose=1)])\n\u001b[0m",
      "\u001b[0;32m~/miniconda3/envs/tensorflow/lib/python3.6/site-packages/kerastuner/engine/base_tuner.py\u001b[0m in \u001b[0;36msearch\u001b[0;34m(self, *fit_args, **fit_kwargs)\u001b[0m\n\u001b[1;32m    128\u001b[0m \u001b[0;34m\u001b[0m\u001b[0m\n\u001b[1;32m    129\u001b[0m             \u001b[0mself\u001b[0m\u001b[0;34m.\u001b[0m\u001b[0mon_trial_begin\u001b[0m\u001b[0;34m(\u001b[0m\u001b[0mtrial\u001b[0m\u001b[0;34m)\u001b[0m\u001b[0;34m\u001b[0m\u001b[0;34m\u001b[0m\u001b[0m\n\u001b[0;32m--> 130\u001b[0;31m             \u001b[0mself\u001b[0m\u001b[0;34m.\u001b[0m\u001b[0mrun_trial\u001b[0m\u001b[0;34m(\u001b[0m\u001b[0mtrial\u001b[0m\u001b[0;34m,\u001b[0m \u001b[0;34m*\u001b[0m\u001b[0mfit_args\u001b[0m\u001b[0;34m,\u001b[0m \u001b[0;34m**\u001b[0m\u001b[0mfit_kwargs\u001b[0m\u001b[0;34m)\u001b[0m\u001b[0;34m\u001b[0m\u001b[0;34m\u001b[0m\u001b[0m\n\u001b[0m\u001b[1;32m    131\u001b[0m             \u001b[0mself\u001b[0m\u001b[0;34m.\u001b[0m\u001b[0mon_trial_end\u001b[0m\u001b[0;34m(\u001b[0m\u001b[0mtrial\u001b[0m\u001b[0;34m)\u001b[0m\u001b[0;34m\u001b[0m\u001b[0;34m\u001b[0m\u001b[0m\n\u001b[1;32m    132\u001b[0m         \u001b[0mself\u001b[0m\u001b[0;34m.\u001b[0m\u001b[0mon_search_end\u001b[0m\u001b[0;34m(\u001b[0m\u001b[0;34m)\u001b[0m\u001b[0;34m\u001b[0m\u001b[0;34m\u001b[0m\u001b[0m\n",
      "\u001b[0;32m~/miniconda3/envs/tensorflow/lib/python3.6/site-packages/kerastuner/engine/multi_execution_tuner.py\u001b[0m in \u001b[0;36mrun_trial\u001b[0;34m(self, trial, *fit_args, **fit_kwargs)\u001b[0m\n\u001b[1;32m     94\u001b[0m \u001b[0;34m\u001b[0m\u001b[0m\n\u001b[1;32m     95\u001b[0m             \u001b[0mmodel\u001b[0m \u001b[0;34m=\u001b[0m \u001b[0mself\u001b[0m\u001b[0;34m.\u001b[0m\u001b[0mhypermodel\u001b[0m\u001b[0;34m.\u001b[0m\u001b[0mbuild\u001b[0m\u001b[0;34m(\u001b[0m\u001b[0mtrial\u001b[0m\u001b[0;34m.\u001b[0m\u001b[0mhyperparameters\u001b[0m\u001b[0;34m)\u001b[0m\u001b[0;34m\u001b[0m\u001b[0;34m\u001b[0m\u001b[0m\n\u001b[0;32m---> 96\u001b[0;31m             \u001b[0mhistory\u001b[0m \u001b[0;34m=\u001b[0m \u001b[0mmodel\u001b[0m\u001b[0;34m.\u001b[0m\u001b[0mfit\u001b[0m\u001b[0;34m(\u001b[0m\u001b[0;34m*\u001b[0m\u001b[0mfit_args\u001b[0m\u001b[0;34m,\u001b[0m \u001b[0;34m**\u001b[0m\u001b[0mcopied_fit_kwargs\u001b[0m\u001b[0;34m)\u001b[0m\u001b[0;34m\u001b[0m\u001b[0;34m\u001b[0m\u001b[0m\n\u001b[0m\u001b[1;32m     97\u001b[0m             \u001b[0;32mfor\u001b[0m \u001b[0mmetric\u001b[0m\u001b[0;34m,\u001b[0m \u001b[0mepoch_values\u001b[0m \u001b[0;32min\u001b[0m \u001b[0mhistory\u001b[0m\u001b[0;34m.\u001b[0m\u001b[0mhistory\u001b[0m\u001b[0;34m.\u001b[0m\u001b[0mitems\u001b[0m\u001b[0;34m(\u001b[0m\u001b[0;34m)\u001b[0m\u001b[0;34m:\u001b[0m\u001b[0;34m\u001b[0m\u001b[0;34m\u001b[0m\u001b[0m\n\u001b[1;32m     98\u001b[0m                 \u001b[0;32mif\u001b[0m \u001b[0mself\u001b[0m\u001b[0;34m.\u001b[0m\u001b[0moracle\u001b[0m\u001b[0;34m.\u001b[0m\u001b[0mobjective\u001b[0m\u001b[0;34m.\u001b[0m\u001b[0mdirection\u001b[0m \u001b[0;34m==\u001b[0m \u001b[0;34m'min'\u001b[0m\u001b[0;34m:\u001b[0m\u001b[0;34m\u001b[0m\u001b[0;34m\u001b[0m\u001b[0m\n",
      "\u001b[0;32m~/miniconda3/envs/tensorflow/lib/python3.6/site-packages/tensorflow/python/keras/engine/training.py\u001b[0m in \u001b[0;36mfit\u001b[0;34m(self, x, y, batch_size, epochs, verbose, callbacks, validation_split, validation_data, shuffle, class_weight, sample_weight, initial_epoch, steps_per_epoch, validation_steps, validation_freq, max_queue_size, workers, use_multiprocessing, **kwargs)\u001b[0m\n\u001b[1;32m    641\u001b[0m         \u001b[0mmax_queue_size\u001b[0m\u001b[0;34m=\u001b[0m\u001b[0mmax_queue_size\u001b[0m\u001b[0;34m,\u001b[0m\u001b[0;34m\u001b[0m\u001b[0;34m\u001b[0m\u001b[0m\n\u001b[1;32m    642\u001b[0m         \u001b[0mworkers\u001b[0m\u001b[0;34m=\u001b[0m\u001b[0mworkers\u001b[0m\u001b[0;34m,\u001b[0m\u001b[0;34m\u001b[0m\u001b[0;34m\u001b[0m\u001b[0m\n\u001b[0;32m--> 643\u001b[0;31m         use_multiprocessing=use_multiprocessing)\n\u001b[0m\u001b[1;32m    644\u001b[0m \u001b[0;34m\u001b[0m\u001b[0m\n\u001b[1;32m    645\u001b[0m   def evaluate(self,\n",
      "\u001b[0;32m~/miniconda3/envs/tensorflow/lib/python3.6/site-packages/tensorflow/python/keras/engine/training_arrays.py\u001b[0m in \u001b[0;36mfit\u001b[0;34m(self, model, x, y, batch_size, epochs, verbose, callbacks, validation_split, validation_data, shuffle, class_weight, sample_weight, initial_epoch, steps_per_epoch, validation_steps, validation_freq, **kwargs)\u001b[0m\n\u001b[1;32m    662\u001b[0m         \u001b[0mvalidation_steps\u001b[0m\u001b[0;34m=\u001b[0m\u001b[0mvalidation_steps\u001b[0m\u001b[0;34m,\u001b[0m\u001b[0;34m\u001b[0m\u001b[0;34m\u001b[0m\u001b[0m\n\u001b[1;32m    663\u001b[0m         \u001b[0mvalidation_freq\u001b[0m\u001b[0;34m=\u001b[0m\u001b[0mvalidation_freq\u001b[0m\u001b[0;34m,\u001b[0m\u001b[0;34m\u001b[0m\u001b[0;34m\u001b[0m\u001b[0m\n\u001b[0;32m--> 664\u001b[0;31m         steps_name='steps_per_epoch')\n\u001b[0m\u001b[1;32m    665\u001b[0m \u001b[0;34m\u001b[0m\u001b[0m\n\u001b[1;32m    666\u001b[0m   def evaluate(self,\n",
      "\u001b[0;32m~/miniconda3/envs/tensorflow/lib/python3.6/site-packages/tensorflow/python/keras/engine/training_arrays.py\u001b[0m in \u001b[0;36mmodel_iteration\u001b[0;34m(model, inputs, targets, sample_weights, batch_size, epochs, verbose, callbacks, val_inputs, val_targets, val_sample_weights, shuffle, initial_epoch, steps_per_epoch, validation_steps, validation_freq, mode, validation_in_fit, prepared_feed_values_from_dataset, steps_name, **kwargs)\u001b[0m\n\u001b[1;32m    381\u001b[0m \u001b[0;34m\u001b[0m\u001b[0m\n\u001b[1;32m    382\u001b[0m         \u001b[0;31m# Get outputs.\u001b[0m\u001b[0;34m\u001b[0m\u001b[0;34m\u001b[0m\u001b[0;34m\u001b[0m\u001b[0m\n\u001b[0;32m--> 383\u001b[0;31m         \u001b[0mbatch_outs\u001b[0m \u001b[0;34m=\u001b[0m \u001b[0mf\u001b[0m\u001b[0;34m(\u001b[0m\u001b[0mins_batch\u001b[0m\u001b[0;34m)\u001b[0m\u001b[0;34m\u001b[0m\u001b[0;34m\u001b[0m\u001b[0m\n\u001b[0m\u001b[1;32m    384\u001b[0m         \u001b[0;32mif\u001b[0m \u001b[0;32mnot\u001b[0m \u001b[0misinstance\u001b[0m\u001b[0;34m(\u001b[0m\u001b[0mbatch_outs\u001b[0m\u001b[0;34m,\u001b[0m \u001b[0mlist\u001b[0m\u001b[0;34m)\u001b[0m\u001b[0;34m:\u001b[0m\u001b[0;34m\u001b[0m\u001b[0;34m\u001b[0m\u001b[0m\n\u001b[1;32m    385\u001b[0m           \u001b[0mbatch_outs\u001b[0m \u001b[0;34m=\u001b[0m \u001b[0;34m[\u001b[0m\u001b[0mbatch_outs\u001b[0m\u001b[0;34m]\u001b[0m\u001b[0;34m\u001b[0m\u001b[0;34m\u001b[0m\u001b[0m\n",
      "\u001b[0;32m~/miniconda3/envs/tensorflow/lib/python3.6/site-packages/tensorflow/python/keras/backend.py\u001b[0m in \u001b[0;36m__call__\u001b[0;34m(self, inputs)\u001b[0m\n\u001b[1;32m   3508\u001b[0m         \u001b[0mvalue\u001b[0m \u001b[0;34m=\u001b[0m \u001b[0mmath_ops\u001b[0m\u001b[0;34m.\u001b[0m\u001b[0mcast\u001b[0m\u001b[0;34m(\u001b[0m\u001b[0mvalue\u001b[0m\u001b[0;34m,\u001b[0m \u001b[0mtensor\u001b[0m\u001b[0;34m.\u001b[0m\u001b[0mdtype\u001b[0m\u001b[0;34m)\u001b[0m\u001b[0;34m\u001b[0m\u001b[0;34m\u001b[0m\u001b[0m\n\u001b[1;32m   3509\u001b[0m       \u001b[0mconverted_inputs\u001b[0m\u001b[0;34m.\u001b[0m\u001b[0mappend\u001b[0m\u001b[0;34m(\u001b[0m\u001b[0mvalue\u001b[0m\u001b[0;34m)\u001b[0m\u001b[0;34m\u001b[0m\u001b[0;34m\u001b[0m\u001b[0m\n\u001b[0;32m-> 3510\u001b[0;31m     \u001b[0moutputs\u001b[0m \u001b[0;34m=\u001b[0m \u001b[0mself\u001b[0m\u001b[0;34m.\u001b[0m\u001b[0m_graph_fn\u001b[0m\u001b[0;34m(\u001b[0m\u001b[0;34m*\u001b[0m\u001b[0mconverted_inputs\u001b[0m\u001b[0;34m)\u001b[0m\u001b[0;34m\u001b[0m\u001b[0;34m\u001b[0m\u001b[0m\n\u001b[0m\u001b[1;32m   3511\u001b[0m \u001b[0;34m\u001b[0m\u001b[0m\n\u001b[1;32m   3512\u001b[0m     \u001b[0;31m# EagerTensor.numpy() will often make a copy to ensure memory safety.\u001b[0m\u001b[0;34m\u001b[0m\u001b[0;34m\u001b[0m\u001b[0;34m\u001b[0m\u001b[0m\n",
      "\u001b[0;32m~/miniconda3/envs/tensorflow/lib/python3.6/site-packages/tensorflow/python/eager/function.py\u001b[0m in \u001b[0;36m__call__\u001b[0;34m(self, *args, **kwargs)\u001b[0m\n\u001b[1;32m    570\u001b[0m       raise TypeError(\"Keyword arguments {} unknown. Expected {}.\".format(\n\u001b[1;32m    571\u001b[0m           list(kwargs.keys()), list(self._arg_keywords)))\n\u001b[0;32m--> 572\u001b[0;31m     \u001b[0;32mreturn\u001b[0m \u001b[0mself\u001b[0m\u001b[0;34m.\u001b[0m\u001b[0m_call_flat\u001b[0m\u001b[0;34m(\u001b[0m\u001b[0margs\u001b[0m\u001b[0;34m)\u001b[0m\u001b[0;34m\u001b[0m\u001b[0;34m\u001b[0m\u001b[0m\n\u001b[0m\u001b[1;32m    573\u001b[0m \u001b[0;34m\u001b[0m\u001b[0m\n\u001b[1;32m    574\u001b[0m   \u001b[0;32mdef\u001b[0m \u001b[0m_filtered_call\u001b[0m\u001b[0;34m(\u001b[0m\u001b[0mself\u001b[0m\u001b[0;34m,\u001b[0m \u001b[0margs\u001b[0m\u001b[0;34m,\u001b[0m \u001b[0mkwargs\u001b[0m\u001b[0;34m)\u001b[0m\u001b[0;34m:\u001b[0m\u001b[0;34m\u001b[0m\u001b[0;34m\u001b[0m\u001b[0m\n",
      "\u001b[0;32m~/miniconda3/envs/tensorflow/lib/python3.6/site-packages/tensorflow/python/eager/function.py\u001b[0m in \u001b[0;36m_call_flat\u001b[0;34m(self, args)\u001b[0m\n\u001b[1;32m    669\u001b[0m     \u001b[0;31m# Only need to override the gradient in graph mode and when we have outputs.\u001b[0m\u001b[0;34m\u001b[0m\u001b[0;34m\u001b[0m\u001b[0;34m\u001b[0m\u001b[0m\n\u001b[1;32m    670\u001b[0m     \u001b[0;32mif\u001b[0m \u001b[0mcontext\u001b[0m\u001b[0;34m.\u001b[0m\u001b[0mexecuting_eagerly\u001b[0m\u001b[0;34m(\u001b[0m\u001b[0;34m)\u001b[0m \u001b[0;32mor\u001b[0m \u001b[0;32mnot\u001b[0m \u001b[0mself\u001b[0m\u001b[0;34m.\u001b[0m\u001b[0moutputs\u001b[0m\u001b[0;34m:\u001b[0m\u001b[0;34m\u001b[0m\u001b[0;34m\u001b[0m\u001b[0m\n\u001b[0;32m--> 671\u001b[0;31m       \u001b[0moutputs\u001b[0m \u001b[0;34m=\u001b[0m \u001b[0mself\u001b[0m\u001b[0;34m.\u001b[0m\u001b[0m_inference_function\u001b[0m\u001b[0;34m.\u001b[0m\u001b[0mcall\u001b[0m\u001b[0;34m(\u001b[0m\u001b[0mctx\u001b[0m\u001b[0;34m,\u001b[0m \u001b[0margs\u001b[0m\u001b[0;34m)\u001b[0m\u001b[0;34m\u001b[0m\u001b[0;34m\u001b[0m\u001b[0m\n\u001b[0m\u001b[1;32m    672\u001b[0m     \u001b[0;32melse\u001b[0m\u001b[0;34m:\u001b[0m\u001b[0;34m\u001b[0m\u001b[0;34m\u001b[0m\u001b[0m\n\u001b[1;32m    673\u001b[0m       \u001b[0mself\u001b[0m\u001b[0;34m.\u001b[0m\u001b[0m_register_gradient\u001b[0m\u001b[0;34m(\u001b[0m\u001b[0;34m)\u001b[0m\u001b[0;34m\u001b[0m\u001b[0;34m\u001b[0m\u001b[0m\n",
      "\u001b[0;32m~/miniconda3/envs/tensorflow/lib/python3.6/site-packages/tensorflow/python/eager/function.py\u001b[0m in \u001b[0;36mcall\u001b[0;34m(self, ctx, args)\u001b[0m\n\u001b[1;32m    443\u001b[0m             attrs=(\"executor_type\", executor_type,\n\u001b[1;32m    444\u001b[0m                    \"config_proto\", config),\n\u001b[0;32m--> 445\u001b[0;31m             ctx=ctx)\n\u001b[0m\u001b[1;32m    446\u001b[0m       \u001b[0;31m# Replace empty list with None\u001b[0m\u001b[0;34m\u001b[0m\u001b[0;34m\u001b[0m\u001b[0;34m\u001b[0m\u001b[0m\n\u001b[1;32m    447\u001b[0m       \u001b[0moutputs\u001b[0m \u001b[0;34m=\u001b[0m \u001b[0moutputs\u001b[0m \u001b[0;32mor\u001b[0m \u001b[0;32mNone\u001b[0m\u001b[0;34m\u001b[0m\u001b[0;34m\u001b[0m\u001b[0m\n",
      "\u001b[0;32m~/miniconda3/envs/tensorflow/lib/python3.6/site-packages/tensorflow/python/eager/execute.py\u001b[0m in \u001b[0;36mquick_execute\u001b[0;34m(op_name, num_outputs, inputs, attrs, ctx, name)\u001b[0m\n\u001b[1;32m     59\u001b[0m     tensors = pywrap_tensorflow.TFE_Py_Execute(ctx._handle, device_name,\n\u001b[1;32m     60\u001b[0m                                                \u001b[0mop_name\u001b[0m\u001b[0;34m,\u001b[0m \u001b[0minputs\u001b[0m\u001b[0;34m,\u001b[0m \u001b[0mattrs\u001b[0m\u001b[0;34m,\u001b[0m\u001b[0;34m\u001b[0m\u001b[0;34m\u001b[0m\u001b[0m\n\u001b[0;32m---> 61\u001b[0;31m                                                num_outputs)\n\u001b[0m\u001b[1;32m     62\u001b[0m   \u001b[0;32mexcept\u001b[0m \u001b[0mcore\u001b[0m\u001b[0;34m.\u001b[0m\u001b[0m_NotOkStatusException\u001b[0m \u001b[0;32mas\u001b[0m \u001b[0me\u001b[0m\u001b[0;34m:\u001b[0m\u001b[0;34m\u001b[0m\u001b[0;34m\u001b[0m\u001b[0m\n\u001b[1;32m     63\u001b[0m     \u001b[0;32mif\u001b[0m \u001b[0mname\u001b[0m \u001b[0;32mis\u001b[0m \u001b[0;32mnot\u001b[0m \u001b[0;32mNone\u001b[0m\u001b[0;34m:\u001b[0m\u001b[0;34m\u001b[0m\u001b[0;34m\u001b[0m\u001b[0m\n",
      "\u001b[0;31mKeyboardInterrupt\u001b[0m: "
     ]
    }
   ],
   "source": [
    "tuner.search(x=[train_encoder_input_data, \n",
    "                train_decoder_input_data], \n",
    "             y=train_decoder_target_data,\n",
    "             validation_data=([\n",
    "                valid_encoder_input_data,\n",
    "                valid_decoder_input_data],\n",
    "                valid_decoder_target_data),\n",
    "             batch_size=batch_size,\n",
    "             epochs=epochs,\n",
    "             callbacks=[EarlyStopping(monitor='val_loss', \n",
    "                                      patience=patience, \n",
    "                                      verbose=1)])"
   ]
  },
  {
   "cell_type": "code",
   "execution_count": null,
   "metadata": {},
   "outputs": [],
   "source": [
    "tuner.results_summary()"
   ]
  },
  {
   "cell_type": "markdown",
   "metadata": {},
   "source": [
    "## Stacked encoder"
   ]
  },
  {
   "cell_type": "code",
   "execution_count": null,
   "metadata": {
    "scrolled": true
   },
   "outputs": [],
   "source": [
    "model_builder = StackedEncoderSeq2Seq(Tx, Ty, encoder_input_dim, \n",
    "                             decoder_input_dim, decoder_output_dim)\n",
    "\n",
    "tuner = RandomSearch(model_builder,\n",
    "                     objective='val_loss',\n",
    "                     max_trials=max_trials,\n",
    "                     executions_per_trial=executions_per_trial,\n",
    "                     directory='local-keras-tuner/seq2seq', \n",
    "                     project_name='stacked-encoder')"
   ]
  },
  {
   "cell_type": "code",
   "execution_count": null,
   "metadata": {
    "scrolled": true
   },
   "outputs": [],
   "source": [
    "tuner.search(x=[train_encoder_input_data, \n",
    "                train_decoder_input_data], \n",
    "             y=train_decoder_target_data,\n",
    "             validation_data=([\n",
    "                valid_encoder_input_data,\n",
    "                valid_decoder_input_data],\n",
    "                valid_decoder_target_data),\n",
    "             batch_size=batch_size,\n",
    "             epochs=epochs,\n",
    "             callbacks=[EarlyStopping(monitor='val_loss', \n",
    "                                      patience=patience, \n",
    "                                      verbose=1)])"
   ]
  },
  {
   "cell_type": "markdown",
   "metadata": {},
   "source": [
    "## BiStacked encoder"
   ]
  },
  {
   "cell_type": "code",
   "execution_count": null,
   "metadata": {
    "scrolled": true
   },
   "outputs": [],
   "source": [
    "model_builder = BiStackedEncoderSeq2Seq(Tx, Ty, encoder_input_dim, \n",
    "                             decoder_input_dim, decoder_output_dim)\n",
    "\n",
    "tuner = RandomSearch(model_builder,\n",
    "                     objective='val_loss',\n",
    "                     max_trials=max_trials,\n",
    "                     executions_per_trial=executions_per_trial,\n",
    "                     directory='local-keras-tuner/seq2seq', \n",
    "                     project_name='bistacked-encoder')"
   ]
  },
  {
   "cell_type": "code",
   "execution_count": null,
   "metadata": {
    "scrolled": true
   },
   "outputs": [],
   "source": [
    "tuner.search(x=[train_encoder_input_data, \n",
    "                train_decoder_input_data], \n",
    "             y=train_decoder_target_data,\n",
    "             validation_data=([\n",
    "                valid_encoder_input_data,\n",
    "                valid_decoder_input_data],\n",
    "                valid_decoder_target_data),\n",
    "             batch_size=batch_size,\n",
    "             epochs=epochs,\n",
    "             callbacks=[EarlyStopping(monitor='val_loss', \n",
    "                                      patience=patience, \n",
    "                                      verbose=1)])"
   ]
  },
  {
   "cell_type": "code",
   "execution_count": null,
   "metadata": {},
   "outputs": [],
   "source": [
    "tuner.results_summary()"
   ]
  },
  {
   "cell_type": "markdown",
   "metadata": {},
   "source": [
    "## Stacked decoder"
   ]
  },
  {
   "cell_type": "code",
   "execution_count": null,
   "metadata": {
    "scrolled": true
   },
   "outputs": [],
   "source": [
    "model_builder = StackedDecoderSeq2Seq(Tx, Ty, encoder_input_dim, \n",
    "                             decoder_input_dim, decoder_output_dim)\n",
    "\n",
    "tuner = RandomSearch(model_builder,\n",
    "                     objective='val_loss',\n",
    "                     max_trials=max_trials,\n",
    "                     executions_per_trial=executions_per_trial,\n",
    "                     directory='local-keras-tuner/seq2seq', \n",
    "                     project_name='stacked-decoder')"
   ]
  },
  {
   "cell_type": "code",
   "execution_count": null,
   "metadata": {
    "scrolled": true
   },
   "outputs": [],
   "source": [
    "tuner.search(x=[train_encoder_input_data, \n",
    "                train_decoder_input_data], \n",
    "             y=train_decoder_target_data,\n",
    "             validation_data=([\n",
    "                valid_encoder_input_data,\n",
    "                valid_decoder_input_data],\n",
    "                valid_decoder_target_data),\n",
    "             batch_size=batch_size,\n",
    "             epochs=epochs,\n",
    "             callbacks=[EarlyStopping(monitor='val_loss', \n",
    "                                      patience=patience, \n",
    "                                      verbose=1)])"
   ]
  },
  {
   "cell_type": "code",
   "execution_count": null,
   "metadata": {},
   "outputs": [],
   "source": [
    "tuner.results_summary()"
   ]
  },
  {
   "cell_type": "markdown",
   "metadata": {},
   "source": [
    "## Stacked"
   ]
  },
  {
   "cell_type": "code",
   "execution_count": null,
   "metadata": {
    "scrolled": true
   },
   "outputs": [],
   "source": [
    "model_builder = StackedSeq2Seq(Tx, Ty, encoder_input_dim, \n",
    "                             decoder_input_dim, decoder_output_dim)\n",
    "\n",
    "tuner = RandomSearch(model_builder,\n",
    "                     objective='val_loss',\n",
    "                     max_trials=max_trials,\n",
    "                     executions_per_trial=executions_per_trial,\n",
    "                     directory='local-keras-tuner/seq2seq', \n",
    "                     project_name='stacked')"
   ]
  },
  {
   "cell_type": "code",
   "execution_count": null,
   "metadata": {
    "scrolled": true
   },
   "outputs": [],
   "source": [
    "tuner.search(x=[train_encoder_input_data, \n",
    "                train_decoder_input_data], \n",
    "             y=train_decoder_target_data,\n",
    "             validation_data=([\n",
    "                valid_encoder_input_data,\n",
    "                valid_decoder_input_data],\n",
    "                valid_decoder_target_data),\n",
    "             batch_size=batch_size,\n",
    "             epochs=epochs,\n",
    "             callbacks=[EarlyStopping(monitor='val_loss', \n",
    "                                      patience=patience, \n",
    "                                      verbose=1)])"
   ]
  },
  {
   "cell_type": "markdown",
   "metadata": {},
   "source": [
    "## BiStacked"
   ]
  },
  {
   "cell_type": "code",
   "execution_count": null,
   "metadata": {
    "scrolled": true
   },
   "outputs": [],
   "source": [
    "model_builder = BiStackedSeq2Seq(Tx, Ty, encoder_input_dim, \n",
    "                             decoder_input_dim, decoder_output_dim)\n",
    "\n",
    "tuner = RandomSearch(model_builder,\n",
    "                     objective='val_loss',\n",
    "                     max_trials=max_trials,\n",
    "                     executions_per_trial=executions_per_trial,\n",
    "                     directory='local-keras-tuner/seq2seq', \n",
    "                     project_name='bistacked')"
   ]
  },
  {
   "cell_type": "code",
   "execution_count": null,
   "metadata": {
    "scrolled": false
   },
   "outputs": [],
   "source": [
    "tuner.search(x=[train_encoder_input_data, \n",
    "                train_decoder_input_data], \n",
    "             y=train_decoder_target_data,\n",
    "             validation_data=([\n",
    "                valid_encoder_input_data,\n",
    "                valid_decoder_input_data],\n",
    "                valid_decoder_target_data),\n",
    "             batch_size=batch_size,\n",
    "             epochs=epochs,\n",
    "             callbacks=[EarlyStopping(monitor='val_loss', \n",
    "                                      patience=patience, \n",
    "                                      verbose=1)])"
   ]
  },
  {
   "cell_type": "code",
   "execution_count": null,
   "metadata": {},
   "outputs": [],
   "source": []
  }
 ],
 "metadata": {
  "kernelspec": {
   "display_name": "Python 3.6 (tensorflow)",
   "language": "python",
   "name": "tensorflow"
  },
  "language_info": {
   "codemirror_mode": {
    "name": "ipython",
    "version": 3
   },
   "file_extension": ".py",
   "mimetype": "text/x-python",
   "name": "python",
   "nbconvert_exporter": "python",
   "pygments_lexer": "ipython3",
   "version": "3.6.10"
  }
 },
 "nbformat": 4,
 "nbformat_minor": 4
}
